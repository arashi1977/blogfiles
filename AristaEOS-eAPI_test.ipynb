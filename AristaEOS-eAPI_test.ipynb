{
 "cells": [
  {
   "cell_type": "markdown",
   "metadata": {
    "deletable": true,
    "editable": true
   },
   "source": [
    "# Arista vEOSを使ったJupyterの実験\n",
    "- 参考サイト\n",
    "    - https://eos.arista.com/ja/eapi-j-01/\n",
    "        - コード例がPython2なので注意\n",
    "    - https://eos.arista.com/script-example-automating-vxlan-deployments-with-eapi/"
   ]
  },
  {
   "cell_type": "markdown",
   "metadata": {
    "deletable": true,
    "editable": true
   },
   "source": [
    "## 事前設定\n",
    "- Switch1\n",
    "```\n",
    "enable\n",
    "configure\n",
    "hostname vEOS1\n",
    "username apitest priv 15 secret password\n",
    "int ma1\n",
    "ip address 192.168.0.1/24\n",
    "no shut\n",
    "management api http\n",
    "protocol http\n",
    "no shut\n",
    "end\n",
    "copy run start\n",
    "```\n",
    "\n",
    "- Switch2\n",
    "```\n",
    "enable\n",
    "configure\n",
    "hostname vEOS2\n",
    "username apitest priv 15 secret password\n",
    "int ma1\n",
    "ip address 192.168.0.2/24\n",
    "no shut\n",
    "management api http\n",
    "protocol http\n",
    "no shut\n",
    "end\n",
    "copy run start\n",
    "```"
   ]
  },
  {
   "cell_type": "markdown",
   "metadata": {
    "deletable": true,
    "editable": true
   },
   "source": [
    "- vEOSノードと疎通できているかを確認する"
   ]
  },
  {
   "cell_type": "code",
   "execution_count": null,
   "metadata": {
    "collapsed": false,
    "deletable": true,
    "editable": true,
    "scrolled": false
   },
   "outputs": [],
   "source": [
    "!ping -c 3 192.168.0.1\n",
    "!ping -c 3 192.168.0.2"
   ]
  },
  {
   "cell_type": "code",
   "execution_count": null,
   "metadata": {
    "collapsed": false,
    "deletable": true,
    "editable": true,
    "scrolled": false
   },
   "outputs": [],
   "source": [
    "vEOS1 = '192.168.0.1'\n",
    "vEOS2 = '192.168.0.2'\n",
    "\n",
    "import os\n",
    "response = os.system(\"ping -c 1 \" + vEOS1)\n",
    "\n",
    "#and then check the response...\n",
    "if response == 0:\n",
    "  print(vEOS1, 'is up!')\n",
    "else:\n",
    "  print(vEOS1, 'is down!')"
   ]
  },
  {
   "cell_type": "code",
   "execution_count": null,
   "metadata": {
    "collapsed": false,
    "deletable": true,
    "editable": true,
    "scrolled": false
   },
   "outputs": [],
   "source": [
    "response = os.system(\"ping -c 1 \" + vEOS2)\n",
    "\n",
    "#and then check the response...\n",
    "if response == 0:\n",
    "  print(vEOS2, 'is up!')\n",
    "else:\n",
    "  print(vEOS2, 'is down!')"
   ]
  },
  {
   "cell_type": "markdown",
   "metadata": {
    "deletable": true,
    "editable": true
   },
   "source": [
    "- jsonrpclibはPython3に対応していないので、jsonrpclib-pelix( https://github.com/tcalmant/jsonrpclib )を使用する"
   ]
  },
  {
   "cell_type": "code",
   "execution_count": null,
   "metadata": {
    "collapsed": false,
    "deletable": true,
    "editable": true,
    "scrolled": true
   },
   "outputs": [],
   "source": [
    "!pip install jsonrpclib-pelix"
   ]
  },
  {
   "cell_type": "code",
   "execution_count": null,
   "metadata": {
    "collapsed": true,
    "deletable": true,
    "editable": true,
    "scrolled": false
   },
   "outputs": [],
   "source": [
    "from jsonrpclib import Server"
   ]
  },
  {
   "cell_type": "markdown",
   "metadata": {
    "deletable": true,
    "editable": true
   },
   "source": [
    "- 使用するVLAN番号を指定する"
   ]
  },
  {
   "cell_type": "code",
   "execution_count": null,
   "metadata": {
    "collapsed": true,
    "deletable": true,
    "editable": true,
    "scrolled": false
   },
   "outputs": [],
   "source": [
    "VLAN_ID = 10"
   ]
  },
  {
   "cell_type": "markdown",
   "metadata": {
    "deletable": true,
    "editable": true
   },
   "source": [
    "- vEOSのeAPIへの接続を作成する"
   ]
  },
  {
   "cell_type": "code",
   "execution_count": null,
   "metadata": {
    "collapsed": false,
    "deletable": true,
    "editable": true,
    "scrolled": false
   },
   "outputs": [],
   "source": [
    "switch1 = Server(\"http://apitest:password@\" + vEOS1 + \"/command-api\") \n",
    "switch2 = Server(\"http://apitest:password@\" + vEOS2 + \"/command-api\")"
   ]
  },
  {
   "cell_type": "markdown",
   "metadata": {
    "deletable": true,
    "editable": true
   },
   "source": [
    "- eAPIから取得できることを確認する"
   ]
  },
  {
   "cell_type": "code",
   "execution_count": null,
   "metadata": {
    "collapsed": false,
    "deletable": true,
    "editable": true,
    "scrolled": false
   },
   "outputs": [],
   "source": [
    "response = switch1.runCmds( 1, [ \"show version\" ] ) \n",
    "print(response)"
   ]
  },
  {
   "cell_type": "code",
   "execution_count": null,
   "metadata": {
    "collapsed": false,
    "deletable": true,
    "editable": true,
    "scrolled": false
   },
   "outputs": [],
   "source": [
    "response = switch2.runCmds( 1, [ \"show version\" ] ) \n",
    "print(response)"
   ]
  },
  {
   "cell_type": "markdown",
   "metadata": {
    "deletable": true,
    "editable": true
   },
   "source": [
    "- 以下の通りvEOS1に設定を投入する\n",
    "  - e1をトランクインターフェースに\n",
    "  - e2を指定したVLANのアクセスポートにする\n",
    "  - 指定したVLANのSVIを作成する"
   ]
  },
  {
   "cell_type": "code",
   "execution_count": null,
   "metadata": {
    "collapsed": false,
    "deletable": true,
    "editable": true,
    "scrolled": false
   },
   "outputs": [],
   "source": [
    "switch1.runCmds(1, [\n",
    "    \"enable\",\n",
    "    \"configure\", \n",
    "    \"%s vlan %d\" % ('no', VLAN_ID),\n",
    "    \"vlan %s\" % (VLAN_ID),\n",
    "    \"interface vlan %d\" % (VLAN_ID),\n",
    "    \"ip address 10.1.%d.1/24\" % (VLAN_ID),\n",
    "    \"interface e1\",\n",
    "    \"switchport mode trunk\",\n",
    "    \"interface e2\",\n",
    "    \"switchport access vlan %d\" % (VLAN_ID)])"
   ]
  },
  {
   "cell_type": "markdown",
   "metadata": {
    "deletable": true,
    "editable": true
   },
   "source": [
    "- 以下の通りvEOS2に設定を投入する\n",
    "  - e1をトランクインターフェースに\n",
    "  - e2を指定したVLANのアクセスポートにする\n",
    "  - 指定したVLANのSVIを作成する"
   ]
  },
  {
   "cell_type": "code",
   "execution_count": null,
   "metadata": {
    "collapsed": false,
    "deletable": true,
    "editable": true,
    "scrolled": false
   },
   "outputs": [],
   "source": [
    "switch2.runCmds(1, [\n",
    "    \"enable\",\n",
    "    \"configure\", \n",
    "    \"%s vlan %d\" % ('no', VLAN_ID),\n",
    "    \"vlan %s\" % (VLAN_ID),\n",
    "    \"interface vlan %d\" % (VLAN_ID),\n",
    "    \"ip address 10.1.%d.2/24\" % (VLAN_ID),\n",
    "    \"interface e1\",\n",
    "    \"switchport mode trunk\"\n",
    "])"
   ]
  },
  {
   "cell_type": "markdown",
   "metadata": {
    "deletable": true,
    "editable": true
   },
   "source": [
    "- 共通のBGP設定コマンドを投入する"
   ]
  },
  {
   "cell_type": "code",
   "execution_count": null,
   "metadata": {
    "collapsed": false,
    "deletable": true,
    "editable": true,
    "scrolled": false
   },
   "outputs": [],
   "source": [
    "BGP_CMD = [\n",
    "    \"enable\",\n",
    "    \"configure\", \n",
    "    \"ip routing\",\n",
    "    \"no router bgp\",\n",
    "    \"router bgp %d\" % (VLAN_ID),\n",
    "]\n",
    "switch1.runCmds(1, BGP_CMD)\n",
    "switch2.runCmds(1, BGP_CMD)"
   ]
  },
  {
   "cell_type": "markdown",
   "metadata": {
    "deletable": true,
    "editable": true
   },
   "source": [
    "- vEOS1用のBGP設定コマンドを投入する"
   ]
  },
  {
   "cell_type": "code",
   "execution_count": null,
   "metadata": {
    "collapsed": false,
    "deletable": true,
    "editable": true,
    "scrolled": false
   },
   "outputs": [],
   "source": [
    "switch1.runCmds(1, [\n",
    "    \"enable\",\n",
    "    \"configure\", \n",
    "    \"router bgp %d\" % (VLAN_ID),\n",
    "    \"neighbor 10.1.%d.2 remote-as %d\" % (VLAN_ID, VLAN_ID),\n",
    "    \"neighbor 10.1.%d.2 route-reflector-client\" % (VLAN_ID),\n",
    "])"
   ]
  },
  {
   "cell_type": "markdown",
   "metadata": {
    "deletable": true,
    "editable": true
   },
   "source": [
    "- vEOS2用のBGP設定コマンドを投入する"
   ]
  },
  {
   "cell_type": "code",
   "execution_count": null,
   "metadata": {
    "collapsed": false,
    "deletable": true,
    "editable": true,
    "scrolled": false
   },
   "outputs": [],
   "source": [
    "switch2.runCmds(1, [\n",
    "    \"enable\",\n",
    "    \"configure\", \n",
    "    \"router bgp %d\" % (VLAN_ID),\n",
    "    \"neighbor 10.1.%d.1 remote-as %d\" % (VLAN_ID, VLAN_ID),\n",
    "])"
   ]
  },
  {
   "cell_type": "markdown",
   "metadata": {
    "deletable": true,
    "editable": true
   },
   "source": [
    "- BGPのネイバが張れているかを確認する"
   ]
  },
  {
   "cell_type": "code",
   "execution_count": null,
   "metadata": {
    "collapsed": false,
    "deletable": true,
    "editable": true,
    "scrolled": false
   },
   "outputs": [],
   "source": [
    "response = switch1.runCmds(1, [\n",
    "    \"show ip bgp summary\"\n",
    "])\n",
    "\n",
    "state = response[0][\"vrfs\"][\"default\"][\"peers\"][\"10.1.10.2\"][\"peerState\"] \n",
    "\n",
    "from time import sleep\n",
    "while state == \"Active\":\n",
    "    sleep(1)\n",
    "    response = switch1.runCmds(1, [\n",
    "        \"show ip bgp summary\"\n",
    "    ])\n",
    "    state = response[0][\"vrfs\"][\"default\"][\"peers\"][\"10.1.10.2\"][\"peerState\"] \n",
    "\n",
    "print(\"Peer OK\")"
   ]
  },
  {
   "cell_type": "code",
   "execution_count": null,
   "metadata": {
    "collapsed": false,
    "deletable": true,
    "editable": true,
    "scrolled": false
   },
   "outputs": [],
   "source": [
    "response = switch2.runCmds(1, [\n",
    "    \"show ip bgp summary\"\n",
    "])\n",
    "\n",
    "state = response[0][\"vrfs\"][\"default\"][\"peers\"][\"10.1.10.1\"][\"peerState\"] \n",
    "\n",
    "while state == \"Active\":\n",
    "    sleep(1)\n",
    "    response = switch2.runCmds(1, [\n",
    "        \"enable\",\n",
    "        \"show ip bgp summary\"\n",
    "    ])\n",
    "    state = response[1][\"vrfs\"][\"default\"][\"peers\"][\"10.1.10.1\"][\"peerState\"] \n",
    "\n",
    "print(\"Peer OK\")"
   ]
  },
  {
   "cell_type": "markdown",
   "metadata": {
    "deletable": true,
    "editable": true
   },
   "source": [
    "- vEOS2で新たにプレフィックスを作成して広報させてみる"
   ]
  },
  {
   "cell_type": "code",
   "execution_count": null,
   "metadata": {
    "collapsed": false,
    "deletable": true,
    "editable": true,
    "scrolled": false
   },
   "outputs": [],
   "source": [
    "switch2.runCmds(1, [\n",
    "    \"enable\",\n",
    "    \"configure\",\n",
    "    \"interface Loopback0\",\n",
    "    \"ip address 192.0.2.1/24\",\n",
    "    \"router bgp %d\" % (VLAN_ID),\n",
    "    \"network 192.0.2.0/24\",\n",
    "    \"end\"\n",
    "])\n",
    "\n",
    "response = switch2.runCmds(1, [\n",
    "    \"show ip bgp\"\n",
    "])\n",
    "\n",
    "while '192.0.2.0/24' not in response[0][\"vrfs\"][\"default\"][\"bgpRouteEntries\"].keys():\n",
    "    sleep(1)\n",
    "    response = switch2.runCmds(1, [\n",
    "        \"show ip bgp\"\n",
    "    ])\n",
    "\n",
    "print(\"Prefix Generation OK!\")"
   ]
  },
  {
   "cell_type": "markdown",
   "metadata": {
    "deletable": true,
    "editable": true
   },
   "source": [
    "- vEOS1に到達しているか確認する"
   ]
  },
  {
   "cell_type": "code",
   "execution_count": null,
   "metadata": {
    "collapsed": false,
    "deletable": true,
    "editable": true,
    "scrolled": false
   },
   "outputs": [],
   "source": [
    "response = switch1.runCmds(1, [\n",
    "    \"show ip bgp\"\n",
    "])\n",
    "\n",
    "errCnt = 0\n",
    "while '192.0.2.0/24' not in response[0][\"vrfs\"][\"default\"][\"bgpRouteEntries\"].keys():\n",
    "    errCnt += 1\n",
    "\n",
    "    if errCnt > 5:\n",
    "        print(\"Prefix not received.\")\n",
    "        exit()\n",
    "\n",
    "    sleep(1)\n",
    "    response = switch2.runCmds(1, [\n",
    "        \"show ip bgp\"\n",
    "    ])\n",
    "\n",
    "print(\"Prefix receive OK!\")"
   ]
  }
 ],
 "metadata": {
  "kernelspec": {
   "display_name": "Python 3",
   "language": "python",
   "name": "python3"
  },
  "language_info": {
   "codemirror_mode": {
    "name": "ipython",
    "version": 3
   },
   "file_extension": ".py",
   "mimetype": "text/x-python",
   "name": "python",
   "nbconvert_exporter": "python",
   "pygments_lexer": "ipython3",
   "version": "3.6.1"
  }
 },
 "nbformat": 4,
 "nbformat_minor": 2
}
